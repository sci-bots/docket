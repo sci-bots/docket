{
 "cells": [
  {
   "cell_type": "code",
   "execution_count": null,
   "metadata": {
    "ExecuteTime": {
     "end_time": "2017-11-13T22:27:17.585000Z",
     "start_time": "2017-11-13T22:27:16.547000Z"
    }
   },
   "outputs": [],
   "source": [
    "%matplotlib inline\n",
    "import matplotlib as mpl\n",
    "import matplotlib.pyplot\n",
    "import pandas as pd\n",
    "import uuid\n",
    "\n",
    "import docket\n",
    "import docket.util\n",
    "reload(docket)\n",
    "reload(docket.util)"
   ]
  },
  {
   "cell_type": "markdown",
   "metadata": {},
   "source": [
    "# 1. Generate 100 random UUIDs and copy image to clipboard\n",
    "\n",
    "Clipboard image is useful, e.g., to paste into label making software."
   ]
  },
  {
   "cell_type": "code",
   "execution_count": null,
   "metadata": {
    "ExecuteTime": {
     "end_time": "2017-11-13T22:31:07.697000Z",
     "start_time": "2017-11-13T22:31:04.754000Z"
    }
   },
   "outputs": [],
   "source": [
    "# Generate random UUIDs\n",
    "uuids = [uuid.uuid4() for i in xrange(100)]\n",
    "\n",
    "# Render UUIDs as a 600 DPI image.\n",
    "df_data = pd.DataFrame(uuids, columns=['uuid'])\n",
    "shape, surface = docket.render_frame_text(df_data,\n",
    "                                          ((6 * docket.UREG.centimeter)\n",
    "                                           * (600 * docket.UREG.PPI))\n",
    "                                          .to('pixel'), font='Lato Bold',\n",
    "                                          fill=(0, 0, 0), \n",
    "                                          stroke=(1, 1, 1), align='center')\n",
    "axis = docket.util.plot_surface(surface)\n",
    "display(axis.get_figure())\n",
    "mpl.pyplot.close(axis.get_figure())\n",
    "\n",
    "# Copy image to clipboard.\n",
    "docket.util.to_clipboard(surface)"
   ]
  },
  {
   "cell_type": "markdown",
   "metadata": {},
   "source": [
    "# 2. Copy UUIDs to clipboard as text\n",
    "\n",
    "Useful, e.g., to paste in a spreadsheet."
   ]
  },
  {
   "cell_type": "code",
   "execution_count": null,
   "metadata": {
    "ExecuteTime": {
     "end_time": "2017-11-13T22:29:45.532000Z",
     "start_time": "2017-11-13T22:29:45.423000Z"
    }
   },
   "outputs": [],
   "source": [
    "df_data.to_clipboard(header=False, index=False)"
   ]
  }
 ],
 "metadata": {
  "kernelspec": {
   "display_name": "Python 2",
   "language": "python",
   "name": "python2"
  },
  "language_info": {
   "codemirror_mode": {
    "name": "ipython",
    "version": 2
   },
   "file_extension": ".py",
   "mimetype": "text/x-python",
   "name": "python",
   "nbconvert_exporter": "python",
   "pygments_lexer": "ipython2",
   "version": "2.7.14"
  },
  "toc": {
   "colors": {
    "hover_highlight": "#DAA520",
    "navigate_num": "#000000",
    "navigate_text": "#333333",
    "running_highlight": "#FF0000",
    "selected_highlight": "#FFD700",
    "sidebar_border": "#EEEEEE",
    "wrapper_background": "#FFFFFF"
   },
   "moveMenuLeft": true,
   "nav_menu": {
    "height": "12px",
    "width": "252px"
   },
   "navigate_menu": true,
   "number_sections": true,
   "sideBar": true,
   "threshold": 4,
   "toc_cell": false,
   "toc_section_display": "block",
   "toc_window_display": false,
   "widenNotebook": false
  }
 },
 "nbformat": 4,
 "nbformat_minor": 2
}
